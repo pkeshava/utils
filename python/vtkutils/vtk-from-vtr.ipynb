{
 "cells": [
  {
   "cell_type": "markdown",
   "metadata": {},
   "source": [
    "# VTR to VTK conversion for Blender\n",
    "---\n",
    "This is a small utility written to take .vtr files (for example those exported from lumerical) and turn it into vtr data that can be used to perform a time-dependent visualization in paraview (and then exported to blender)\n"
   ]
  },
  {
   "cell_type": "code",
   "execution_count": null,
   "metadata": {},
   "outputs": [],
   "source": [
    "import vtk\n",
    "from vtk.util import numpy_support\n",
    "import numpy as np\n",
    "import os\n",
    "import xml.etree.ElementTree as ET\n"
   ]
  },
  {
   "cell_type": "code",
   "execution_count": null,
   "metadata": {},
   "outputs": [],
   "source": [
    "\n",
    "# Step 1: Read the VTR file and extract the 'Pz' array\n",
    "filename = 'P_downsampled.vtr'  # Replace with your actual file path\n",
    "reader = vtk.vtkXMLRectilinearGridReader()\n",
    "reader.SetFileName(filename)\n",
    "reader.Update()\n",
    "data = reader.GetOutput()\n"
   ]
  },
  {
   "cell_type": "code",
   "execution_count": null,
   "metadata": {},
   "outputs": [],
   "source": [
    "\n",
    "# Extract the 'Pz' array\n",
    "pz_vtk_array = data.GetPointData().GetArray('Pz')\n",
    "if not pz_vtk_array:\n",
    "    print(\"Error: 'Pz' array not found in Point Data.\")\n",
    "    exit(1)\n",
    "\n",
    "# Convert to NumPy array\n",
    "pz_numpy = numpy_support.vtk_to_numpy(pz_vtk_array)\n",
    "\n",
    "# Determine the number of points and time steps\n",
    "num_points, num_time_steps = pz_numpy.shape\n",
    "print(f\"Pz array shape: {pz_numpy.shape} (Points: {num_points}, Time Steps: {num_time_steps})\")\n",
    "\n",
    "# Step 2: Create a time array from 0 to 100 fs\n",
    "time_values = np.linspace(0, 100, num_time_steps)  # Time in femtoseconds\n",
    "\n",
    "# Step 3: Loop over each time step to create individual VTR files\n",
    "output_dir = 'output_vtr_files'\n",
    "os.makedirs(output_dir, exist_ok=True)\n",
    "\n",
    "# Get coordinate information\n",
    "x_coords = data.GetXCoordinates()\n",
    "y_coords = data.GetYCoordinates()\n",
    "z_coords = data.GetZCoordinates()\n",
    "dimensions = data.GetDimensions()\n"
   ]
  },
  {
   "cell_type": "code",
   "execution_count": null,
   "metadata": {},
   "outputs": [],
   "source": [
    "\n",
    "for i in range(num_time_steps):\n",
    "    # Extract data for the current time step\n",
    "    pz_time_step = pz_numpy[:, i]\n",
    "\n",
    "    # Create a new VTK array\n",
    "    pz_vtk_time_step = numpy_support.numpy_to_vtk(pz_time_step, deep=True)\n",
    "    pz_vtk_time_step.SetName('Pz')\n",
    "\n",
    "    # Create a new rectilinear grid\n",
    "    grid = vtk.vtkRectilinearGrid()\n",
    "    grid.SetDimensions(dimensions)\n",
    "    grid.SetXCoordinates(x_coords)\n",
    "    grid.SetYCoordinates(y_coords)\n",
    "    grid.SetZCoordinates(z_coords)\n",
    "\n",
    "    # Add the Pz array to the grid's point data\n",
    "    grid.GetPointData().AddArray(pz_vtk_time_step)\n",
    "\n",
    "    # Write the grid to a VTR file\n",
    "    writer = vtk.vtkXMLRectilinearGridWriter()\n",
    "    timestep_filename = os.path.join(output_dir, f'timestep_{i:04d}.vtr')\n",
    "    writer.SetFileName(timestep_filename)\n",
    "    writer.SetInputData(grid)\n",
    "    writer.Write()\n",
    "\n",
    "    print(f\"Written time step {i+1}/{num_time_steps} to '{timestep_filename}'\")\n",
    "\n",
    "# Step 4: Create a PVD file to reference the time series\n",
    "root = ET.Element('VTKFile', type='Collection', version='0.1', byte_order='LittleEndian')\n",
    "collection = ET.SubElement(root, 'Collection')\n",
    "\n",
    "for i, time in enumerate(time_values):\n",
    "    dataset = ET.SubElement(\n",
    "        collection, 'DataSet',\n",
    "        timestep=str(time),\n",
    "        group='',\n",
    "        part='0',\n",
    "        file=os.path.join('output_vtr_files', f'timestep_{i:04d}.vtr')\n",
    "    )\n",
    "\n",
    "pvd_filename = 'time_series.pvd'\n",
    "tree = ET.ElementTree(root)\n",
    "tree.write(pvd_filename)\n",
    "\n",
    "print(f\"PVD file '{pvd_filename}' has been created.\")\n",
    "\n",
    "# Step 5: Instructions to load the PVD file into ParaView\n",
    "print(\"\\nTo visualize the data:\")\n",
    "print(\"1. Open ParaView.\")\n",
    "print(f\"2. Go to 'File' > 'Open' and select '{pvd_filename}'.\")\n",
    "print(\"3. Click 'Apply' in the Properties panel.\")\n",
    "print(\"4. Use the animation controls to play through the time steps.\")\n"
   ]
  }
 ],
 "metadata": {
  "language_info": {
   "name": "python"
  }
 },
 "nbformat": 4,
 "nbformat_minor": 2
}
